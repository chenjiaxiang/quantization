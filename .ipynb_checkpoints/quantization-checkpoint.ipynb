{
 "cells": [
  {
   "cell_type": "markdown",
   "id": "85c0f80f",
   "metadata": {},
   "source": [
    "# 量化"
   ]
  },
  {
   "cell_type": "markdown",
   "id": "2da36664",
   "metadata": {},
   "source": [
    "## 需求\n",
    "在模型部署后做推理的过程中，有下面两个问题\n",
    "1. 算力需求过大\n",
    "2. 显存开销太大\n",
    "## 收益\n",
    "以float32 -> int8为例，暂时忽略量化相关的参数， 因为相对于矩阵的存储， 量化参数非常少。  \n",
    "存储降低的情况： 32bit/number -> 8bit/number , 4倍存储下降。  \n",
    "计算需求的降低： 32bit float GEMM -> 8bit float GEMM + elementwise multiply + quant + dequant. GEMM: general matrix multiply [收益示例](#gemm-accerlate)\n",
    "## 核心问题\n",
    "非MOE结构下（MOE存在路由变动问题），指标的变化受量化导致的数值变动影响。因此，如何降低量化导致的数值变动是核心问题。"
   ]
  },
  {
   "cell_type": "markdown",
   "id": "f1a4d74a",
   "metadata": {},
   "source": [
    "量化分类\n",
    "|量化方案分类|主要做法|优点|缺点|\n",
    "|-|-|-|-|\n",
    "|QAT()|\n",
    "0. QAT：量化感知训练，让模型在训练（调优）时，感知到量化误差。核心是伪量化，使用梯度直通让数学上不可微的量化操作可以传递梯度。后文有具体[实现](#qat-ste-code)\n",
    "1. PTQ：在训练完成后做量化。本次分享的重点介绍方案。"
   ]
  },
  {
   "cell_type": "markdown",
   "id": "ead363d5",
   "metadata": {},
   "source": [
    "## 量化与反量化  \n",
    "量化：把float32数据变换到int8  \n",
    "反量化：基于量化时的参数把整型数据变换到回float32。（这里的整型一般不是int8, 因为在做int8 GEMM时容易溢出，所以更常用int16或int32表示）  \n",
    "伪量化：在量化完后直接用量化参数反量化回来，实际GEMM是float32类型的。数学上和量化+反量化是等价的，但是在工程实现上无需在GEMM后再做反量化，工程实现简单。使用场景：QAT，PTQ在模型原型上验证量化导致的指标误差。  \n",
    "数学上量化与反量化的近似性(以对称量化为例)：\n",
    "    $$ \\begin{align}\n",
    "\\hat{A}_n &= \\hat{b}_n + \\sum_m \\hat{\\mathbf{W}}_{n,m} \\hat{\\mathbf{x}}_m \\\\\n",
    "&= \\hat{b}_n + \\sum_m \\left( s_w \\mathbf{W}^{\\text{int}}_{n,m} \\right) \\left( s_x \\mathbf{x}^{\\text{int}}_m \\right) \\\\\n",
    "&= \\hat{b}_n + s_w s_x \\sum_m \\mathbf{W}^{\\text{int}}_{n,m} \\mathbf{x}^{\\text{int}}_m\n",
    "\\end{align} $$\n",
    "\n"
   ]
  },
  {
   "cell_type": "markdown",
   "id": "52c1df3d",
   "metadata": {},
   "source": [
    "对称量化与非对称量化示意  \n",
    "<center class='img'>\n",
    "<img src=\"assets/img/sym_and_asym_quantization.png\" style=\"zoom: 30%\">\n",
    "</center>\n",
    "\n",
    "|量化类型|特点|\n",
    "|-|-|\n",
    "|对称量化|零点没有偏移，因此量化参数只有scale，没有zero_point, 但是由于原始数据分布不对称会有空间浪费|\n",
    "|非对称量化|零点有偏移，包含zero_point量化参数，但是范围更吻合，量化损失较小|\n",
    "\n",
    "工程常采用对称量化方案的原因：  \n",
    "$$ \\begin{align}\n",
    "\\widehat{\\mathbf{W}}\\widehat{\\mathbf{x}} \n",
    "&= s_w \\left( \\mathbf{W}_{\\text{int}} - z_w \\right) s_x \\left( \\mathbf{x}_{\\text{int}} - z_x \\right) \\\\[4pt]\n",
    "&= s_w s_x \\mathbf{W}_{\\text{int}} \\mathbf{x}_{\\text{int}}\n",
    "- \\textcolor{red}{s_w z_w s_x \\mathbf{x}_{\\text{int}}}\n",
    "- \\textcolor{blue}{s_w s_x z_x \\mathbf{W}_{\\text{int}}}\n",
    "+ \\textcolor{yellow}{s_w z_w s_x z_x}.\n",
    "\\end{align} $$\n",
    "\n",
    "后三项是非对称量化相对于对称量化在反量化过程中产生的额外计算，黄色部分是标量常量（可以折叠到蓝色部分中），蓝色部分是矩阵常量（权重信息是已知的，所以可以提前计算好存储下来，但是仍然有矩阵加法的开销），红色部分是激活值相关的计算，需要在前向计算中才能获取到值（额外计算量是elementwise乘和矩阵加法）。  \n",
    "相对于对称量化计算量增加较多，因此不太采用非对称量化方案。"
   ]
  },
  {
   "cell_type": "markdown",
   "id": "c90a694c",
   "metadata": {},
   "source": [
    "计算示例（视频）"
   ]
  },
  {
   "cell_type": "markdown",
   "id": "628fcda7",
   "metadata": {
    "vscode": {
     "languageId": "ini"
    }
   },
   "source": [
    "举例（以float32到int8的量化为例）: \n",
    "1. 把[float32](https://www.h-schmidt.net/FloatConverter/IEEE754.html)的范围直接变换到int8  \n",
    "   |数据类型|数据点|数据范围|\n",
    "   |-|-|-|\n",
    "   |float32|2^32|[−3.4028235×1038,−1.4013×10−45]∪[1.4013×10−45,3.4028235×1038]|\n",
    "   |int8|2^8|[−128,127]|\n",
    "\n",
    "<center class='img'>\n",
    "<img src=\"assets/img/most_general_quant.png\" style=\"zoom: 40%;\">\n",
    "</center>"
   ]
  },
  {
   "cell_type": "markdown",
   "id": "3fa4481c",
   "metadata": {},
   "source": [
    "论文及分类    \n",
    "综述: [A White Paper on Neural Network Quantization](https://arxiv.org/pdf/2106.08295)  \n",
    "训练前分布约束技术：   \n",
    "    [PACT: Parameterized Clipping Activation for Quantized Neural Networks](https://arxiv.org/pdf/1805.06085)   \n",
    "    [R2 Loss: Range Restriction Loss for Model Compression and Quantization](https://arxiv.org/pdf/2303.08253)  \n",
    "    [Robust Quantization: One Model to Rule Them All](https://arxiv.org/pdf/2002.07686)  \n",
    "PTQ技术(目前主要面向Transformer结构, 实际的计算是Linear, 但是在语音中conformer中是有conv结构的, 也需要关注面向conv的量化方案)：  \n",
    "    &nbsp; 直觉类：   \n",
    "        &ensp; 最直观降低误差的手段：   \n",
    "            &emsp; [LLM.int8(): 8-bit Matrix Multiplication for Transformers at Scale](https://arxiv.org/pdf/2208.07339)     \n",
    "        &ensp; 基于数据的观察：   \n",
    "            &emsp; [SmoothQuant: Accurate and Efficient Post-Training Quantization for Large Language Models](https://arxiv.org/pdf/2211.10438)    \n",
    "        &emsp; [ZeroQuant: Efficient and Affordable Post-Training Quantization for Large-Scale Transformers](https://arxiv.org/pdf/2206.01861)    \n",
    "        &emsp; [AWQ: Activation-aware Weight Quantization for LLM Compression and Acceleration](https://arxiv.org/pdf/2306.00978)  \n",
    "    &nbsp;灵光一闪类：     \n",
    "        &ensp; [Up or Down? Adaptive Rounding for Post-Training Quantization](https://arxiv.org/pdf/2004.10568)  \n",
    "    &nbsp;数学分析类：   \n",
    "        &ensp; [Data-Free Quantization Through Weight Equalization and Bias Correction](https://arxiv.org/pdf/1906.04721)  \n"
   ]
  },
  {
   "cell_type": "markdown",
   "id": "257238c1",
   "metadata": {},
   "source": [
    "## LLM.int8()\n",
    "\n",
    "思想: 把量化误差较大的通道不量化，对通道进行分离，部分通道使用float GEMM, 部分通道使用int GEMM。不量化的通道如何选择？激活值比较大的通道。\n",
    "<center class=img>\n",
    "<img src=\"./assets/img/LLMint8.png\" style=\"zoom: 30%\">\n",
    "</center>\n",
    "问题：矩阵分解其实成本比较高。"
   ]
  },
  {
   "cell_type": "markdown",
   "id": "483cc231",
   "metadata": {},
   "source": [
    "## smoothquant\n",
    "思想：基于数据观察。\n",
    "1. 激活通道间最大值分布差异较大，权重通道间分布差异较小\n",
    "    <center class=img>\n",
    "    <img src=\"./assets/img/sq1.png\" style=\"zoom: 50%\">\n",
    "    </center>\n",
    "2. 大值通道的量化误差会比较大\n",
    "3. 通过等价的数学变换把激活值的大值往权重转移\n",
    "$$ \\mathbf{Y} = (\\mathbf{X} \\, \\mathrm{diag}(\\mathbf{s})^{-1}) \\cdot (\\mathrm{diag}(\\mathbf{s}) \\mathbf{W}) = \\hat{\\mathbf{X}} \\hat{\\mathbf{W}}\n",
    " $$\n",
    " <center class=img>\n",
    " <img src=\"./assets/img/sq2.png\" style=\"zoom: 60%\">\n",
    " </center>\n",
    "   \n"
   ]
  },
  {
   "cell_type": "markdown",
   "id": "6a91152d",
   "metadata": {},
   "source": [
    "## Bias Correction\n",
    "主要测试模型是CV的模型，应该比较适配conv结构，语音模型可以参考。是一个weight-only的方案。  \n",
    "能做到DFQ（data_free_quantization有条件的： 模型有BN层， 那LN是不是可以， 从统计的角度看是可以的）  \n",
    "conv的权重没有transformer的linear中的那么平坦。\n",
    "<center class=img>\n",
    "<img src=\"./assets/img/BC1.png\" style=\"zoom: 80%\">\n",
    "</center>  \n",
    "跨层的权重均衡  \n",
    "理论公式： \n",
    "$$ \\begin{aligned}\n",
    "\\mathbf{y} &= f(\\mathbf{W}^{(2)} f(\\mathbf{W}^{(1)} \\mathbf{x} + \\mathbf{b}^{(1)}) + \\mathbf{b}^{(2)}) \\\\\n",
    "&= f(\\mathbf{W}^{(2)} \\mathbf{S} \\hat{f}(\\mathbf{S}^{-1} \\mathbf{W}^{(1)} \\mathbf{x} + \\mathbf{S}^{-1} \\mathbf{b}^{(1)}) + \\mathbf{b}^{(2)}) \\\\\n",
    "&= f(\\hat{\\mathbf{W}}^{(2)} \\hat{f}(\\hat{\\mathbf{W}}^{(1)} \\mathbf{x} + \\hat{\\mathbf{b}}^{(1)}) + \\mathbf{b}^{(2)})\n",
    "\\end{aligned} $$"
   ]
  },
  {
   "cell_type": "markdown",
   "id": "279d13aa",
   "metadata": {},
   "source": [
    "<a id=\"qat-ste-code\">QAT梯度直通示例</a>  \n",
    "是否需要增加一个更加简单的示例，以及对pytorch的反向传播做下说明？"
   ]
  },
  {
   "cell_type": "code",
   "execution_count": null,
   "id": "65be3377",
   "metadata": {},
   "outputs": [
    {
     "name": "stdout",
     "output_type": "stream",
     "text": [
      "tensor([1., 1., 1.])\n"
     ]
    }
   ],
   "source": [
    "# 核心模块示例, 如何自定义一个数学上不可微分操作的反向传播函数\n",
    "import torch\n",
    "from torch.autograd import Function\n",
    "\n",
    "class FakeQuantizeSTE(Function):\n",
    "    @staticmethod\n",
    "    def forward(ctx, input, scale):\n",
    "        return torch.round(input / scale) * scale\n",
    "\n",
    "    @staticmethod\n",
    "    def backward(ctx, grad_output):\n",
    "        return grad_output, None\n",
    "\n",
    "x = torch.randn(3, requires_grad=True)\n",
    "scale = torch.tensor(0.1)\n",
    "y = FakeQuantizeSTE.apply(x, scale)\n",
    "y.sum().backward()\n",
    "print(x.grad)"
   ]
  },
  {
   "cell_type": "code",
   "execution_count": 1,
   "id": "ec297081",
   "metadata": {},
   "outputs": [
    {
     "name": "stdout",
     "output_type": "stream",
     "text": [
      "step   50 | batch_loss=9.6628 | full_MSE=9.3308\n",
      "step  100 | batch_loss=5.5163 | full_MSE=5.6729\n",
      "step  150 | batch_loss=2.5716 | full_MSE=2.1575\n",
      "step  200 | batch_loss=0.7124 | full_MSE=0.6377\n",
      "step  250 | batch_loss=0.2451 | full_MSE=0.2592\n",
      "step  300 | batch_loss=0.1310 | full_MSE=0.1408\n",
      "\n",
      "Disable fake-quant (eval) and re-evaluate:\n",
      "Full-data MSE without fake-quant: 0.1390\n"
     ]
    }
   ],
   "source": [
    "# ste_fake_quant_demo.py\n",
    "import math\n",
    "import torch\n",
    "import torch.nn as nn\n",
    "import torch.nn.functional as F\n",
    "\n",
    "# -------- Fake Quant with STE (autograd.Function) --------\n",
    "class FakeQuantizeFunction(torch.autograd.Function):\n",
    "    @staticmethod\n",
    "    def forward(ctx, x, num_bits, symmetric, per_channel, ch_axis, eps):\n",
    "        # 计算 scale/zero_point（简单版：逐次前向用min/max估计）\n",
    "        if per_channel:\n",
    "            # 按通道统计 min/max\n",
    "            reduce_dims = [d for d in range(x.dim()) if d != ch_axis]\n",
    "            x_min = x.amin(dim=reduce_dims, keepdim=True)\n",
    "            x_max = x.amax(dim=reduce_dims, keepdim=True)\n",
    "        else:\n",
    "            x_min = x.min()\n",
    "            x_max = x.max()\n",
    "\n",
    "        if symmetric:\n",
    "            # 对称量化：零点为0\n",
    "            qmax = 2 ** (num_bits - 1) - 1\n",
    "            m = torch.maximum(x_max.abs(), x_min.abs())\n",
    "            scale = torch.maximum(m / qmax, torch.tensor(eps, device=x.device, dtype=x.dtype))\n",
    "            zero_point = 0.0\n",
    "            x_clamp_min = -qmax * scale\n",
    "            x_clamp_max =  qmax * scale\n",
    "        else:\n",
    "            # 非对称：映射到 [0, 2^b-1]\n",
    "            qmin, qmax = 0, 2 ** num_bits - 1\n",
    "            scale = torch.maximum((x_max - x_min) / max(qmax - qmin, 1), torch.tensor(eps, device=x.device, dtype=x.dtype))\n",
    "            zero_point = torch.clamp(torch.round(qmin - x_min / scale), qmin, qmax)\n",
    "            x_clamp_min = (0.0 - zero_point) * scale\n",
    "            x_clamp_max = (qmax - zero_point) * scale\n",
    "\n",
    "        # 保存范围用于反向时做简单截断（可选）\n",
    "        ctx.save_for_backward(x, x_clamp_min, x_clamp_max)\n",
    "        ctx.num_bits = num_bits\n",
    "        ctx.symmetric = symmetric\n",
    "        ctx.per_channel = per_channel\n",
    "        ctx.ch_axis = ch_axis\n",
    "        ctx.eps = eps\n",
    "\n",
    "        # 量化 -> 反量化\n",
    "        if symmetric:\n",
    "            q = torch.round(x / scale)\n",
    "            q = torch.clamp(q, -(2**(num_bits-1)), 2**(num_bits-1)-1)\n",
    "            x_hat = q * scale\n",
    "        else:\n",
    "            q = torch.round(x / scale + zero_point)\n",
    "            q = torch.clamp(q, 0, 2**num_bits - 1)\n",
    "            x_hat = (q - zero_point) * scale\n",
    "\n",
    "        return x_hat\n",
    "\n",
    "    @staticmethod\n",
    "    def backward(ctx, grad_output):\n",
    "        # STE：忽略round的梯度，近似 d/dx (x) = 1\n",
    "        x, x_clamp_min, x_clamp_max = ctx.saved_tensors\n",
    "        # 在可表示范围内直通，范围外可选择截断为0（常见简化）\n",
    "        pass_through = (x >= x_clamp_min) & (x <= x_clamp_max)\n",
    "        grad_input = grad_output * pass_through.to(grad_output.dtype)\n",
    "        # 非张量参数的梯度为 None\n",
    "        return grad_input, None, None, None, None, None\n",
    "\n",
    "# -------- 便捷模块封装 --------\n",
    "class FakeQuantize(nn.Module):\n",
    "    def __init__(self, num_bits=8, symmetric=True, per_channel=False, ch_axis=1, eps=1e-8):\n",
    "        super().__init__()\n",
    "        self.num_bits = num_bits\n",
    "        self.symmetric = symmetric\n",
    "        self.per_channel = per_channel\n",
    "        self.ch_axis = ch_axis\n",
    "        self.eps = eps\n",
    "\n",
    "    def forward(self, x):\n",
    "        return FakeQuantizeFunction.apply(\n",
    "            x, self.num_bits, self.symmetric, self.per_channel, self.ch_axis, self.eps\n",
    "        )\n",
    "\n",
    "# 将权重也做伪量化（常见做法：前向时对权重做伪量化）\n",
    "class QuantLinear(nn.Linear):\n",
    "    def __init__(self, in_features, out_features, bias=True,\n",
    "                 w_num_bits=8, a_num_bits=8, symmetric=True):\n",
    "        super().__init__(in_features, out_features, bias=bias)\n",
    "        self.w_fake = FakeQuantize(num_bits=w_num_bits, symmetric=symmetric, per_channel=True, ch_axis=0)\n",
    "        self.a_fake = FakeQuantize(num_bits=a_num_bits, symmetric=symmetric, per_channel=False)\n",
    "\n",
    "    def forward(self, x):\n",
    "        # 激活伪量化（前一层输出）\n",
    "        x_q = self.a_fake(x)\n",
    "        # 权重伪量化（对 weight 做 per-channel，对应 out_features 维度）\n",
    "        w_q = self.w_fake(self.weight)\n",
    "        b = self.bias\n",
    "        return F.linear(x_q, w_q, b)\n",
    "\n",
    "# -------- 一个极简可跑的训练 demo --------\n",
    "def synthetic_regression(n=1024, in_dim=16, out_dim=1, noise=0.1, seed=0, device=\"cpu\"):\n",
    "    g = torch.Generator().manual_seed(seed)\n",
    "    X = torch.randn(n, in_dim, generator=g)\n",
    "    w_true = torch.randn(in_dim, out_dim, generator=g)\n",
    "    y = X @ w_true + noise * torch.randn(n, out_dim, generator=g)\n",
    "    return X.to(device), y.to(device)\n",
    "\n",
    "class TinyQATNet(nn.Module):\n",
    "    def __init__(self, in_dim=16, hidden=32, out_dim=1):\n",
    "        super().__init__()\n",
    "        self.fc1 = QuantLinear(in_dim, hidden, w_num_bits=8, a_num_bits=8, symmetric=True)\n",
    "        self.act = nn.ReLU()\n",
    "        self.fc2 = QuantLinear(hidden, out_dim, w_num_bits=8, a_num_bits=8, symmetric=True)\n",
    "\n",
    "    def forward(self, x):\n",
    "        x = self.fc1(x)\n",
    "        x = self.act(x)\n",
    "        x = self.fc2(x)\n",
    "        return x\n",
    "\n",
    "def main():\n",
    "    device = \"cuda\" if torch.cuda.is_available() else \"cpu\"\n",
    "    torch.manual_seed(42)\n",
    "\n",
    "    X, y = synthetic_regression(n=2048, in_dim=16, out_dim=1, noise=0.1, seed=123, device=device)\n",
    "    model = TinyQATNet(in_dim=16, hidden=32, out_dim=1).to(device)\n",
    "\n",
    "    opt = torch.optim.Adam(model.parameters(), lr=1e-3)\n",
    "    loss_fn = nn.MSELoss()\n",
    "\n",
    "    model.train()\n",
    "    for step in range(1, 301):\n",
    "        # 小批量\n",
    "        idx = torch.randint(0, X.size(0), (128,), device=device)\n",
    "        xb, yb = X[idx], y[idx]\n",
    "\n",
    "        pred = model(xb)\n",
    "        loss = loss_fn(pred, yb)\n",
    "\n",
    "        opt.zero_grad()\n",
    "        loss.backward()\n",
    "        opt.step()\n",
    "\n",
    "        if step % 50 == 0:\n",
    "            with torch.no_grad():\n",
    "                mse_all = loss_fn(model(X), y).item()\n",
    "            print(f\"step {step:4d} | batch_loss={loss.item():.4f} | full_MSE={mse_all:.4f}\")\n",
    "\n",
    "    # 简单对比：关闭伪量化看一下（推理阶段常用做法）\n",
    "    model.eval()\n",
    "    print(\"\\nDisable fake-quant (eval) and re-evaluate:\")\n",
    "    def disable_fake(m):\n",
    "        if isinstance(m, FakeQuantize):\n",
    "            # 用恒等映射替换（最简单方式：注册一个不做事的forward）\n",
    "            m.forward = lambda x: x\n",
    "    model.apply(disable_fake)\n",
    "    with torch.no_grad():\n",
    "        mse_no_fake = loss_fn(model(X), y).item()\n",
    "    print(f\"Full-data MSE without fake-quant: {mse_no_fake:.4f}\")\n",
    "\n",
    "# if __name__ == \"__main__\":\n",
    "#     main()\n",
    "main()"
   ]
  },
  {
   "cell_type": "markdown",
   "id": "4477f127",
   "metadata": {},
   "source": [
    "<a id=\"gemm-accerlate\">计算加速效果示意</a>"
   ]
  },
  {
   "cell_type": "code",
   "execution_count": 4,
   "id": "6a9d3460",
   "metadata": {},
   "outputs": [],
   "source": [
    "# TODO tensor core 计算加速示例"
   ]
  }
 ],
 "metadata": {
  "kernelspec": {
   "display_name": "tn",
   "language": "python",
   "name": "python3"
  },
  "language_info": {
   "codemirror_mode": {
    "name": "ipython",
    "version": 3
   },
   "file_extension": ".py",
   "mimetype": "text/x-python",
   "name": "python",
   "nbconvert_exporter": "python",
   "pygments_lexer": "ipython3",
   "version": "3.10.12"
  }
 },
 "nbformat": 4,
 "nbformat_minor": 5
}
