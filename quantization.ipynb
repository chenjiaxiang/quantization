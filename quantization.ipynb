{
 "cells": [
  {
   "cell_type": "markdown",
   "id": "85c0f80f",
   "metadata": {},
   "source": [
    "# 量化"
   ]
  },
  {
   "cell_type": "markdown",
   "id": "628fcda7",
   "metadata": {
    "vscode": {
     "languageId": "ini"
    }
   },
   "source": [
    "直觉（以float32到int8的量化为例）: \n",
    "1. 把[float32](https://www.h-schmidt.net/FloatConverter/IEEE754.html)的范围直接变换到int8\n",
    "   |数据类型|数据点|数据范围|\n",
    "   |-|-|-|\n",
    "   |float32|2^32|[−3.4028235×1038,−1.4013×10−45]∪[1.4013×10−45,3.4028235×1038]|\n",
    "   |int8|2^8|[−128,127]|\n",
    "\n",
    "<center class='img'>\n",
    "<img src=\"assets/img/most_general_quant.png\" style=\"zoom: 40%;\">\n",
    "</center>"
   ]
  }
 ],
 "metadata": {
  "language_info": {
   "name": "python"
  }
 },
 "nbformat": 4,
 "nbformat_minor": 5
}
